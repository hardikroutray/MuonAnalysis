{
 "cells": [
  {
   "cell_type": "code",
   "execution_count": 1,
   "metadata": {},
   "outputs": [
    {
     "name": "stdout",
     "output_type": "stream",
     "text": [
      "Welcome to JupyROOT 6.20/06\n"
     ]
    }
   ],
   "source": [
    "import ROOT as RT\n",
    "import numpy as np\n",
    "from ROOT import TLatex\n",
    "#RT.enableJSVis()"
   ]
  },
  {
   "cell_type": "code",
   "execution_count": 2,
   "metadata": {},
   "outputs": [
    {
     "name": "stdout",
     "output_type": "stream",
     "text": [
      " +++ Starting PROOF-Lite with 12 workers +++\n",
      "PROOF set to parallel mode (12 workers)\n"
     ]
    },
    {
     "name": "stderr",
     "output_type": "stream",
     "text": [
      "Opening connections to workers: 1 out of 12 (8 %)\r",
      "Opening connections to workers: 2 out of 12 (16 %)\r",
      "Opening connections to workers: 3 out of 12 (25 %)\r",
      "Opening connections to workers: 4 out of 12 (33 %)\r",
      "Opening connections to workers: 5 out of 12 (41 %)\r",
      "Opening connections to workers: 6 out of 12 (50 %)\r",
      "Opening connections to workers: 7 out of 12 (58 %)\r",
      "Opening connections to workers: 8 out of 12 (66 %)\r",
      "Opening connections to workers: 9 out of 12 (75 %)\r",
      "Opening connections to workers: 10 out of 12 (83 %)\r",
      "Opening connections to workers: 11 out of 12 (91 %)\r",
      "Opening connections to workers: OK (12 workers)                 \n",
      "Setting up worker servers: 1 out of 12 (8 %)\r",
      "Setting up worker servers: 2 out of 12 (16 %)\r",
      "Setting up worker servers: 3 out of 12 (25 %)\r",
      "Setting up worker servers: 4 out of 12 (33 %)\r",
      "Setting up worker servers: 5 out of 12 (41 %)\r",
      "Setting up worker servers: 6 out of 12 (50 %)\r",
      "Setting up worker servers: 7 out of 12 (58 %)\r",
      "Setting up worker servers: 8 out of 12 (66 %)\r",
      "Setting up worker servers: 9 out of 12 (75 %)\r",
      "Setting up worker servers: 10 out of 12 (83 %)\r",
      "Setting up worker servers: 11 out of 12 (91 %)\r",
      "Setting up worker servers: OK (12 workers)                 \n"
     ]
    }
   ],
   "source": [
    "proof = RT.TProof.Open(\"lite://\", \"workers=12\")"
   ]
  },
  {
   "cell_type": "code",
   "execution_count": 3,
   "metadata": {},
   "outputs": [],
   "source": [
    "tree_mudata = RT.TChain('t')\n",
    "tree_mudata.Add(\"/cms/routray/data_unblind10ifb_nodxyerrcut.root\")\n",
    "tree_muproofdata = RT.TProofChain(tree_mudata, True)"
   ]
  },
  {
   "cell_type": "code",
   "execution_count": 4,
   "metadata": {},
   "outputs": [
    {
     "name": "stdout",
     "output_type": "stream",
     "text": [
      "bins 250.0\n"
     ]
    }
   ],
   "source": [
    "xfitdown = 8.5\n",
    "xfitup = 11.0\n",
    "binwidth = 0.01\n",
    "bins = (xfitup - xfitdown)/binwidth\n",
    "print \"bins\", bins"
   ]
  },
  {
   "cell_type": "code",
   "execution_count": 5,
   "metadata": {},
   "outputs": [
    {
     "name": "stdout",
     "output_type": "stream",
     "text": [
      " \n"
     ]
    },
    {
     "name": "stderr",
     "output_type": "stream",
     "text": [
      "Info in <TProofLite::SetQueryRunning>: starting query: 1\n",
      "Info in <TProofQueryResult::SetRunning>: nwrks: 12\n",
      "Looking up for exact location of files: OK (1 files)                 \n",
      "Looking up for exact location of files: OK (1 files)                 \n",
      "Info in <TPacketizer::TPacketizer>: Initial number of workers: 12\n",
      "Validating files: OK (1 files)                 \n",
      "[TProof::Progress] Total 11743343 events\t|==>.................| 14.17 % [8896363.0 evts/s, 102.6 MB/s, time left: 1.1 s]\r",
      "Lite-0: merging output objects ... - (12 workers still sending)   \r",
      "Lite-0: merging output objects ... - (11 workers still sending)   \r",
      "Lite-0: merging output objects ... - (10 workers still sending)   \r",
      "Lite-0: merging output objects ... - (9 workers still sending)   \r",
      "Lite-0: merging output objects ... - (8 workers still sending)   \r",
      "Lite-0: merging output objects ... - (7 workers still sending)   \r",
      "Lite-0: merging output objects ... - (6 workers still sending)   \r",
      "Lite-0: merging output objects ... - (5 workers still sending)   \r",
      "Lite-0: merging output objects ... - (4 workers still sending)   \r",
      "Lite-0: merging output objects ... - (3 workers still sending)   \r",
      "Lite-0: merging output objects ... - (2 workers still sending)   \r",
      "[TProof::Progress] Total 11743343 events\t|====================| 100.00 % [21626784.0 evts/s, 581.8 MB/s, time left: 0.0 s]\r\n",
      " Query processing time: 0.5 s\n",
      "Lite-0: merging output objects ... - (1 workers still sending)   \r",
      "Info in <TProofDrawHist::SetDrawAtt>: att: 1000\n",
      "Lite-0: all output objects have been merged                                                         \n",
      "Info in <TCanvas::Print>: png file Upsilon.png has been created\n"
     ]
    },
    {
     "data": {
      "image/png": "[encoded data removed]",
      "text/plain": [
       "<IPython.core.display.Image object>"
      ]
     },
     "metadata": {},
     "output_type": "display_data"
    }
   ],
   "source": [
    "c1=RT.TCanvas('c1','c1',600,600)\n",
    "data = RT.TH1F(\"data\",\"data\", int(bins), float(xfitdown), float(xfitup))\n",
    "tree_muproofdata.Draw('dimuon_mass>>data',\"dimuon_mass > {} && dimuon_mass < {}\".format(xfitdown, xfitup),'')\n",
    "data.Draw(\"E1\")\n",
    "c1.Draw()\n",
    "c1.SaveAs(\"Upsilon.png\")"
   ]
  },
  {
   "cell_type": "code",
   "execution_count": 6,
   "metadata": {},
   "outputs": [],
   "source": [
    "x = RT.RooRealVar(\"x\",\"x\",float(xfitdown),float(xfitup))\n",
    "l = RT.RooArgList(x)\n",
    "data_obs = RT.RooDataHist(\"data_obs\", \"data_obs\", l, data)"
   ]
  },
  {
   "cell_type": "code",
   "execution_count": null,
   "metadata": {},
   "outputs": [],
   "source": []
  },
  {
   "cell_type": "code",
   "execution_count": 55,
   "metadata": {},
   "outputs": [],
   "source": [
    "mean = RT.RooRealVar('mean', 'Mean of DoubleCB', 9.5,9.0,10.0)\n",
    "sigma = RT.RooRealVar('sigma', 'Sigma of DoubleCB', 0, 1)\n",
    "alpha_1 = RT.RooRealVar('alpha_1', 'alpha1 of DoubleCB',  1)\n",
    "alpha_2 = RT.RooRealVar('alpha_2', 'alpha2 of DoubleCB',  4)\n",
    "n_1 = RT.RooRealVar('n_1', 'n1 of DoubleCB', 2)\n",
    "n_2 = RT.RooRealVar('n_2', 'n2 of DoubleCB', 5)\n",
    "\n",
    "cbs_1 = RT.RooCBShape(\"CrystallBall_1\", \"CrystallBall_1\", x, mean, sigma, alpha_1, n_1)\n",
    "cbs_2 = RT.RooCBShape(\"CrystallBall_2\", \"CrystallBall_2\", x, mean, sigma, alpha_2, n_2)\n",
    "mc_frac = RT.RooRealVar('mc_frac', 'mc_frac', 0.45)\n",
    "\n",
    "mean1 = RT.RooRealVar(\"mean1\",\"Mean of Gaussian\",9.5,9.0,10.0)\n",
    "sigma1 = RT.RooRealVar(\"sigma1\",\"Width of Gaussian\",0.35)\n",
    "gaus = RT.RooGaussian(\"gaus\",\"gaus\",x,mean1,sigma1)\n",
    "mc_frac1 = RT.RooRealVar('mc_frac1', 'mc_frac1', 0.5)\n",
    "\n",
    "\n",
    "signal0 = RT.RooAddPdf('signal0', 'signal0', RT.RooArgList(cbs_1,cbs_2,gaus), RT.RooArgList(mc_frac,mc_frac1))\n",
    "\n",
    "\n",
    "mean_1 = RT.RooRealVar('mean_1', 'Mean of DoubleCB_1', 10.0,9.5,10.5)\n",
    "sigma_1 = RT.RooRealVar('sigma_1', 'Sigma of DoubleCB_1', 0, 1)\n",
    "alpha_11 = RT.RooRealVar('alpha_11', 'alpha1 of DoubleCB_1',  1)\n",
    "alpha_21 = RT.RooRealVar('alpha_21', 'alpha2 of DoubleCB_1',  4)\n",
    "n_11 = RT.RooRealVar('n_11', 'n1 of DoubleCB_1', 2)\n",
    "n_21 = RT.RooRealVar('n_21', 'n2 of DoubleCB_1', 5)\n",
    "\n",
    "cbs_11 = RT.RooCBShape(\"CrystallBall_11\", \"CrystallBall_11\", x, mean_1, sigma_1, alpha_11, n_11)\n",
    "cbs_21 = RT.RooCBShape(\"CrystallBall_21\", \"CrystallBall_21\", x, mean_1, sigma_1, alpha_21, n_21)\n",
    "mc_frac_1 = RT.RooRealVar('mc_frac_1', 'mc_frac_1', 0.45)\n",
    "\n",
    "mean1_1 = RT.RooRealVar(\"mean1_1\",\"Mean of Gaussian_1\",10.0,9.5,10.5)\n",
    "sigma1_1 = RT.RooRealVar(\"sigma1_1\",\"Width of Gaussian_1\",0.35)\n",
    "gaus_1 = RT.RooGaussian(\"gaus_1\",\"gaus_1\",x,mean1,sigma1)\n",
    "mc_frac1_1 = RT.RooRealVar('mc_frac1_1', 'mc_frac1_1', 0.5)\n",
    "\n",
    "signal1 = RT.RooAddPdf('signal1', 'signal1', RT.RooArgList(cbs_11,cbs_21,gaus_1), RT.RooArgList(mc_frac_1,mc_frac1_1))\n",
    "\n",
    "\n",
    "mean_2 = RT.RooRealVar('mean_2', 'Mean of DoubleCB_2', 10.25,10.1,10.4)\n",
    "sigma_2 = RT.RooRealVar('sigma_2', 'Sigma of DoubleCB_2', 0, 1)\n",
    "alpha_12 = RT.RooRealVar('alpha_12', 'alpha1 of DoubleCB_2',  1)\n",
    "alpha_22 = RT.RooRealVar('alpha_22', 'alpha2 of DoubleCB_2',  4)\n",
    "n_12 = RT.RooRealVar('n_12', 'n1 of DoubleCB_2', 2)\n",
    "n_22 = RT.RooRealVar('n_22', 'n2 of DoubleCB_2', 5)\n",
    "\n",
    "cbs_12 = RT.RooCBShape(\"CrystallBall_12\", \"CrystallBall_12\", x, mean_2, sigma_2, alpha_12, n_12)\n",
    "cbs_22 = RT.RooCBShape(\"CrystallBall_22\", \"CrystallBall_22\", x, mean_2, sigma_2, alpha_22, n_22)\n",
    "mc_frac_2 = RT.RooRealVar('mc_frac_2', 'mc_frac_2', 0.45)\n",
    "\n",
    "mean1_2 = RT.RooRealVar(\"mean1_2\",\"Mean of Gaussian_2\",10.25,10.1,10.4)\n",
    "sigma1_2 = RT.RooRealVar(\"sigma1_2\",\"Width of Gaussian_2\",0.05)\n",
    "gaus_2 = RT.RooGaussian(\"gaus_2\",\"gaus_2\",x,mean1,sigma1)\n",
    "mc_frac1_2 = RT.RooRealVar('mc_frac1_2', 'mc_frac1_2', 0.5)\n",
    "\n",
    "signal2 = RT.RooAddPdf('signal2', 'signal2', RT.RooArgList(cbs_12,cbs_22,gaus_2), RT.RooArgList(mc_frac_2,mc_frac1_2))\n",
    "\n",
    "\n",
    "signal0_frac = RT.RooRealVar('signal0_frac', 'signal0_frac', 0,1)\n",
    "signal1_frac = RT.RooRealVar('signal1_frac', 'signal1_frac', 0,1)\n",
    "\n",
    "signal = RT.RooAddPdf('signal', 'signal', RT.RooArgList(signal0,signal1,signal2), RT.RooArgList(signal0_frac,signal1_frac))\n",
    "\n",
    "nS = 100000                                                                                                                                                                \n",
    "sig_norm = RT.RooRealVar(\"sig_norm\",\"sig_norm\",nS,0,100000000*nS)    "
   ]
  },
  {
   "cell_type": "code",
   "execution_count": 77,
   "metadata": {},
   "outputs": [],
   "source": [
    "order = 5\n",
    "p = [0]*(order+1)\n",
    "par = RT.RooArgList()\n",
    "for i in range(order+1):\n",
    "    p[i] = RT.RooRealVar(\"p{}\".format(i),\"p{}\".format(i),-1,1000000000)\n",
    "    par.add(p[i])\n",
    "    background = RT.RooBernstein(\"background\",\"background\", x, par)\n",
    "nB = data.Integral()\n",
    "background_norm = RT.RooRealVar(\"background_norm\",\"background_norm\",nB,0.4*nB,1.5*nB)"
   ]
  },
  {
   "cell_type": "code",
   "execution_count": 78,
   "metadata": {},
   "outputs": [],
   "source": [
    "model = RT.RooAddPdf(\"model\",\"model\",RT.RooArgList(signal,background),RT.RooArgList(sig_norm,background_norm))"
   ]
  },
  {
   "cell_type": "code",
   "execution_count": 79,
   "metadata": {},
   "outputs": [
    {
     "data": {
      "text/plain": [
       "<ROOT.RooFitResult object at 0x(nil)>"
      ]
     },
     "execution_count": 79,
     "metadata": {},
     "output_type": "execute_result"
    }
   ],
   "source": [
    "RT.gErrorIgnoreLevel = RT.kWarning\n",
    "RT.RooMsgService.instance().setGlobalKillBelow(RT.RooFit.ERROR)\n",
    "RT.RooMsgService.instance().setSilentMode(True)\n",
    "\n",
    "result = RT.RooFitResult(model.fitTo(data_obs, RT.RooFit.Save(RT.kTRUE), RT.RooFit.Minimizer(\"Minuit2\",\"Migrad\")))\n",
    "model.fitTo(data_obs)"
   ]
  },
  {
   "cell_type": "code",
   "execution_count": 80,
   "metadata": {},
   "outputs": [
    {
     "name": "stderr",
     "output_type": "stream",
     "text": [
      "Warning in <TCanvas::Constructor>: Deleting canvas with same name: c2\n"
     ]
    },
    {
     "data": {
      "image/png": "[encoded data removed]",
      "text/plain": [
       "<IPython.core.display.Image object>"
      ]
     },
     "metadata": {},
     "output_type": "display_data"
    }
   ],
   "source": [
    "c2 = RT.TCanvas(\"c2\",\"c2\")\n",
    "\n",
    "pad1 = RT.TPad(\"pad1\", \"The pad 80% of the height\", 0.0, 0.2, 1.0, 1.0, 0)\n",
    "pad2 = RT.TPad(\"pad2\", \"The pad 20% of the height\", 0.0, 0.0, 1.0, 0.2, 0)\n",
    "c2.cd()\n",
    "\n",
    "pad1.Draw()\n",
    "pad2.Draw()\n",
    "\n",
    "pad1.cd()\n",
    "pad1.SetTickx()\n",
    "pad1.SetTicky()\n",
    "pad1.SetBottomMargin(0.01)\n",
    "\n",
    "xframe2 = x.frame(RT.RooFit.Title(\"Upsilon Fit\"))\n",
    "data_obs.plotOn(xframe2, RT.RooFit.Name(\"data\"))\n",
    "model.plotOn(xframe2,RT.RooFit.LineColor(2), RT.RooFit.Name(\"S+B\"), RT.RooFit.LineStyle(1))\n",
    "bkg_component = RT.RooArgSet(background)\n",
    "model.plotOn(xframe2,RT.RooFit.LineColor(3), RT.RooFit.Components(bkg_component), RT.RooFit.Name(\"bkg\"), RT.RooFit.LineStyle(2))\n",
    "xframe2.Draw()\n",
    "xframe2.GetYaxis().SetTitle(\"Events/ {} GeV\".format(binwidth))\n",
    "xframe2.GetYaxis().SetTitleSize(0.05)\n",
    "xframe2.GetYaxis().SetLabelSize(0.045)\n",
    "xframe2.GetYaxis().SetTitleOffset(0.95)\n",
    "leg1 = RT.TLegend(0.6,0.0,0.9,0.3)\n",
    "leg1.SetLineColor(0)\n",
    "leg1.SetFillColor(0)\n",
    "leg1.SetFillStyle(0)\n",
    "leg1.AddEntry(xframe2.findObject(\"data\"), \"Data\", \"pe\") \n",
    "leg1.AddEntry(xframe2.findObject(\"bkg\"), \"#color[2]{%s Fit}\" %(\"Bernstein\" + \"_o\" + \"(\" + str(order) + \")\"), \"l\")\n",
    "leg1.SetTextFont(42)\n",
    "leg1.SetBorderSize(0)\n",
    "# leg1.Draw()\n",
    "\n",
    "pull = RT.RooHist(xframe2.pullHist(\"data\",\"S+B\"))\n",
    "pull.SetFillColor(RT.kRed)\n",
    "pull.SetLineWidth(0)\n",
    "\n",
    "xframe3 = x.frame(RT.RooFit.Title(\" \"))\n",
    "\n",
    "xframe3.addPlotable(pull,\"B X\")\n",
    "xframe3.GetXaxis().SetLabelSize(0.17)\n",
    "xframe3.GetYaxis().SetLabelSize(0.15)\n",
    "xframe3.GetXaxis().SetTitleSize(0.21)\n",
    "xframe3.GetYaxis().SetTitleSize(0.15)\n",
    "xframe3.GetXaxis().SetTitleOffset(0.85)\n",
    "xframe3.GetYaxis().SetTitleOffset(0.28)\n",
    "xframe3.GetXaxis().SetTitle(\"Dimuon Mass [GeV]\")\n",
    "xframe3.GetYaxis().SetTitle(\"#scale[1.3]{#frac{data - fit}{#sigma_{data}}}\")\n",
    "# xframe3.GetYaxis().SetTitle(\"Pull\")\n",
    "xframe3.GetYaxis().SetLabelSize(0.15)\n",
    "\n",
    "\n",
    "pad2.cd()\n",
    "pad2.SetTickx()\n",
    "pad2.SetTicky()\n",
    "# pad2.SetGridy()     \t\n",
    "pad2.SetTopMargin(0.0)\n",
    "pad2.SetBottomMargin(0.4)\n",
    "\n",
    "xframe3.Draw()\n",
    "\n",
    "# c2.BuildLegend()\n",
    "c2.Draw()"
   ]
  },
  {
   "cell_type": "code",
   "execution_count": null,
   "metadata": {},
   "outputs": [],
   "source": []
  }
 ],
 "metadata": {
  "kernelspec": {
   "display_name": "Python 2",
   "language": "python",
   "name": "python2"
  },
  "language_info": {
   "codemirror_mode": {
    "name": "ipython",
    "version": 2
   },
   "file_extension": ".py",
   "mimetype": "text/x-python",
   "name": "python",
   "nbconvert_exporter": "python",
   "pygments_lexer": "ipython2",
   "version": "2.7.15+"
  }
 },
 "nbformat": 4,
 "nbformat_minor": 2
}
