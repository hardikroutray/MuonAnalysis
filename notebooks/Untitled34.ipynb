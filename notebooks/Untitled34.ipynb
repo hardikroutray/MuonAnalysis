{
 "cells": [
  {
   "cell_type": "code",
   "execution_count": 1,
   "metadata": {},
   "outputs": [
    {
     "name": "stdout",
     "output_type": "stream",
     "text": [
      "Welcome to JupyROOT 6.10/05\n"
     ]
    }
   ],
   "source": [
    "import ROOT as RT\n",
    "import numpy as np\n",
    "RT.enableJSVis()"
   ]
  },
  {
   "cell_type": "code",
   "execution_count": 2,
   "metadata": {},
   "outputs": [
    {
     "name": "stdout",
     "output_type": "stream",
     "text": [
      " +++ Starting PROOF-Lite with 12 workers +++\n",
      "PROOF set to parallel mode (12 workers)\n"
     ]
    },
    {
     "name": "stderr",
     "output_type": "stream",
     "text": [
      "Opening connections to workers: 1 out of 12 (8 %)\r",
      "Opening connections to workers: 2 out of 12 (16 %)\r",
      "Opening connections to workers: 3 out of 12 (25 %)\r",
      "Opening connections to workers: 4 out of 12 (33 %)\r",
      "Opening connections to workers: 5 out of 12 (41 %)\r",
      "Opening connections to workers: 6 out of 12 (50 %)\r",
      "Opening connections to workers: 7 out of 12 (58 %)\r",
      "Opening connections to workers: 8 out of 12 (66 %)\r",
      "Opening connections to workers: 9 out of 12 (75 %)\r",
      "Opening connections to workers: 10 out of 12 (83 %)\r",
      "Opening connections to workers: 11 out of 12 (91 %)\r",
      "Opening connections to workers: OK (12 workers)                 \n",
      "Setting up worker servers: 1 out of 12 (8 %)\r",
      "Setting up worker servers: 2 out of 12 (16 %)\r",
      "Setting up worker servers: 3 out of 12 (25 %)\r",
      "Setting up worker servers: 4 out of 12 (33 %)\r",
      "Setting up worker servers: 5 out of 12 (41 %)\r",
      "Setting up worker servers: 6 out of 12 (50 %)\r",
      "Setting up worker servers: 7 out of 12 (58 %)\r",
      "Setting up worker servers: 8 out of 12 (66 %)\r",
      "Setting up worker servers: 9 out of 12 (75 %)\r",
      "Setting up worker servers: 10 out of 12 (83 %)\r",
      "Setting up worker servers: 11 out of 12 (91 %)\r",
      "Setting up worker servers: OK (12 workers)                 \n"
     ]
    }
   ],
   "source": [
    "proof = RT.TProof.Open(\"lite://\", \"workers=12\")"
   ]
  },
  {
   "cell_type": "code",
   "execution_count": 3,
   "metadata": {},
   "outputs": [
    {
     "data": {
      "text/plain": [
       "1"
      ]
     },
     "execution_count": 3,
     "metadata": {},
     "output_type": "execute_result"
    }
   ],
   "source": [
    "tree_mudata = RT.TChain('events')\n",
    "tree_mudata.Add(\"/cms/routray/muon_ntuples_sl7/CMSSW_10_2_5/src/MuonAnalysis/Scouting/condor/flatdimuontree_2017and2018_v1.root\")\n"
   ]
  },
  {
   "cell_type": "code",
   "execution_count": 4,
   "metadata": {
    "collapsed": true
   },
   "outputs": [],
   "source": [
    "tree_muproofdata = RT.TProofChain(tree_mudata, True)"
   ]
  },
  {
   "cell_type": "code",
   "execution_count": null,
   "metadata": {
    "collapsed": true
   },
   "outputs": [],
   "source": [
    "from array import array\n",
    "par = array( 'd', 5*[0.] )\n",
    "\n",
    "\n",
    "c1=RT.TCanvas('c1','c1',600,600)\n",
    "h1 = RT.TH1F(\"h1\",\"lxy > 0 && lxy < 1\",230,0.29,0.52)\n",
    "h1_c = RT.TH1F(\"h1_c\",\"lxy > 0 && lxy < 1\",230,0.29,0.52)\n",
    "tree_muproofdata.Draw('dimuon_mass>>h1','lxy > 3 && lxy < 7 && muon1_trkiso < 0.1 && muon2_trkiso < 0.1 && dRmuon1jet > 0.3 && dRmuon2jet > 0.3 && abs(dphidimudv) < 0.02 && log(abs(detamumu/dphimumu)) < 1.25 && distPixel > 0.05 && (dimuon_mass < 0.65 || dimuon_mass > 0.87) && (dimuon_mass < 0.65 || dimuon_mass > 0.87) && (dimuon_mass < 0.93 || dimuon_mass > 1.1) && (dimuon_mass < 2.57 || dimuon_mass > 3.4) && (dimuon_mass < 3.46 || dimuon_mass > 3.9) && (dimuon_mass < 8 || dimuon_mass > 12) && (dimuon_mass < 65 || dimuon_mass > 110)','')\n",
    "tree_muproofdata.Draw('dimuon_mass>>h1_c','lxy > 3 && lxy < 7 && muon1_trkiso < 0.1 && muon2_trkiso < 0.1 && dRmuon1jet > 0.3 && dRmuon2jet > 0.3 && abs(dphidimudv) < 0.02 && log(abs(detamumu/dphimumu)) < 1.25 && distPixel > 0.05 && (dimuon_mass < 0.65 || dimuon_mass > 0.87) && (dimuon_mass < 0.65 || dimuon_mass > 0.87) && (dimuon_mass < 0.93 || dimuon_mass > 1.1) && (dimuon_mass < 2.57 || dimuon_mass > 3.4) && (dimuon_mass < 3.46 || dimuon_mass > 3.9) && (dimuon_mass < 8 || dimuon_mass > 12) && (dimuon_mass < 65 || dimuon_mass > 110)','')\n",
    "\n",
    "p3 = RT.TF1(\"p3\",\"pol2\",0.29,0.52)\n",
    "g = RT.TF1( 'g', 'gaus',  0.29,  0.52 )\n",
    "tot = RT.TF1( 'tot', 'pol2+gaus',  0.29,  0.52 )\n",
    "\n",
    "\n",
    "h1.Fit(\"p3\", \"R\", \"SAME\")\n",
    "h1.Fit( \"g\", 'R+', \"SAME\" )\n",
    "\n",
    "\n",
    "\n",
    "#print(h1_c.Integral(h1_c.GetXaxis().FindBin(1.36),h1_c.GetXaxis().FindBin(3.31)) - p3.Integral(2.81,3.31))\n",
    "h1_c.Draw(\"E1\")\n",
    "p3.SetLineColor(6)\n",
    "p3.Draw(\"SAME\")\n",
    "g.Draw(\"SAME\")\n",
    "g.SetLineColor(2)\n",
    "h1_c.SetLineColor(4)\n",
    "#h1_c.GetYaxis().SetRangeUser(-1000, 6000) \n",
    "\n",
    "\n",
    "par1 = p3.GetParameters()\n",
    "par2 = g.GetParameters()\n",
    "\n",
    "#par[0], par[1], par[2], par[3], par[4] = par1[0], par1[1], par1[2], par1[3], par1[4]\n",
    "#par[5], par[6], par[7] = par2[0], par2[1], par2[2]\n",
    "\n",
    "par[0], par[1] = par1[0], par1[1]\n",
    "par[2], par[3], par[4] = par2[0], par2[1], par2[2]\n",
    "\n",
    "\n",
    "\n",
    "tot.SetParameters( par )\n",
    "h1.Fit(\"tot\", 'R+', \"SAME\")\n",
    "tot.Draw(\"SAME\")\n",
    "tot.SetLineColor(11)\n",
    "\n",
    "c1.Draw()\n",
    "c1.BuildLegend()"
   ]
  },
  {
   "cell_type": "code",
   "execution_count": null,
   "metadata": {},
   "outputs": [],
   "source": [
    "from array import array\n",
    "par = array( 'd', 9*[0.] )\n",
    "\n",
    "\n",
    "c1=RT.TCanvas('c1','c1',600,600)\n",
    "h1 = RT.TH1F(\"h1\",\"lxy > 0 && lxy < 1\",230,0.29,0.52)\n",
    "h1_c = RT.TH1F(\"h1_c\",\"lxy > 0 && lxy < 1\",230,0.29,0.52)\n",
    "tree_muproofdata.Draw('dimuon_mass>>h1','lxy > 3 && lxy < 7 && muon1_trkiso < 0.1 && muon2_trkiso < 0.1 && dRmuon1jet > 0.3 && dRmuon2jet > 0.3 && abs(dphidimudv) < 0.02 && log(abs(detamumu/dphimumu)) < 1.25 && distPixel > 0.05 && (dimuon_mass < 0.65 || dimuon_mass > 0.87) && (dimuon_mass < 0.65 || dimuon_mass > 0.87) && (dimuon_mass < 0.93 || dimuon_mass > 1.1) && (dimuon_mass < 2.57 || dimuon_mass > 3.4) && (dimuon_mass < 3.46 || dimuon_mass > 3.9) && (dimuon_mass < 8 || dimuon_mass > 12) && (dimuon_mass < 65 || dimuon_mass > 110)','')\n",
    "tree_muproofdata.Draw('dimuon_mass>>h1_c','lxy > 3 && lxy < 7 && muon1_trkiso < 0.1 && muon2_trkiso < 0.1 && dRmuon1jet > 0.3 && dRmuon2jet > 0.3 && abs(dphidimudv) < 0.02 && log(abs(detamumu/dphimumu)) < 1.25 && distPixel > 0.05 && (dimuon_mass < 0.65 || dimuon_mass > 0.87) && (dimuon_mass < 0.65 || dimuon_mass > 0.87) && (dimuon_mass < 0.93 || dimuon_mass > 1.1) && (dimuon_mass < 2.57 || dimuon_mass > 3.4) && (dimuon_mass < 3.46 || dimuon_mass > 3.9) && (dimuon_mass < 8 || dimuon_mass > 12) && (dimuon_mass < 65 || dimuon_mass > 110)','')\n",
    "\n",
    "p3 = RT.TF1(\"p3\",\"pol2\",0.29,0.52)\n",
    "g = RT.TF1( 'g', '[0]*exp(-0.5*((x-[1])/[2])**2) * [3]/((x-[4])*(x-[5])+[6]/4)',  0.29,  0.52 )\n",
    "g.SetParameters(1, 1, 1, 1, 1, 1, 2)\n",
    "\n",
    "tot = RT.TF1( 'tot', 'pol2+[2]*exp(-0.5*((x-[3])/[4])**2) * [5]/((x-[6])*(x-[7])+[8]/4)',  0.29,  0.52 )\n",
    "\n",
    "\n",
    "h1.Fit(\"p3\", \"R0\", \"SAME\")\n",
    "h1.Fit( \"g\", 'R0+', \"SAME\" )\n",
    "\n",
    "\n",
    "\n",
    "\n",
    "\n",
    "#print(h1_c.Integral(h1_c.GetXaxis().FindBin(1.36),h1_c.GetXaxis().FindBin(3.31)) - p3.Integral(2.81,3.31))\n",
    "h1_c.Draw(\"E1\")\n",
    "p3.SetLineColor(6)\n",
    "p3.Draw(\"SAME\")\n",
    "g.Draw(\"SAME\")\n",
    "g.SetLineColor(2)\n",
    "h1_c.SetLineColor(4)\n",
    "#h1_c.GetYaxis().SetRangeUser(-1000, 6000) \n",
    "\n",
    "\n",
    "par1 = p3.GetParameters()\n",
    "par2 = g.GetParameters()\n",
    "\n",
    "#par[0], par[1], par[2], par[3], par[4] = par1[0], par1[1], par1[2], par1[3], par1[4]\n",
    "#par[5], par[6], par[7] = par2[0], par2[1], par2[2]\n",
    "\n",
    "par[0], par[1] = par1[0], par1[1]\n",
    "par[2], par[3], par[4], par[5], par[6], par[7], par[8]  = par2[0], par2[1], par2[2], par2[3], par2[4], par2[5], par2[6]\n",
    "\n",
    "\n",
    "\n",
    "tot.SetParameters( par )\n",
    "h1.Fit(\"tot\", 'R+', \"SAME\")\n",
    "#tot.Draw(\"SAME\")\n",
    "#tot.SetLineColor(11)\n",
    "\n",
    "c1.Draw()\n",
    "c1.BuildLegend()"
   ]
  },
  {
   "cell_type": "code",
   "execution_count": null,
   "metadata": {
    "collapsed": true
   },
   "outputs": [],
   "source": []
  }
 ],
 "metadata": {
  "kernelspec": {
   "display_name": "Python 2",
   "language": "python",
   "name": "python2"
  },
  "language_info": {
   "codemirror_mode": {
    "name": "ipython",
    "version": 2
   },
   "file_extension": ".py",
   "mimetype": "text/x-python",
   "name": "python",
   "nbconvert_exporter": "python",
   "pygments_lexer": "ipython2",
   "version": "2.7.14+"
  }
 },
 "nbformat": 4,
 "nbformat_minor": 2
}
